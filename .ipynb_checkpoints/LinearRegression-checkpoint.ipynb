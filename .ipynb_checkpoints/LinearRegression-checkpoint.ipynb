{
 "cells": [
  {
   "cell_type": "code",
   "execution_count": null,
   "id": "e441506c",
   "metadata": {},
   "outputs": [],
   "source": [
    "import numpy as np\n",
    "class LinearRegression:\n",
    "    def __init__(self, learning_rate=0.001, n_iters=1000):\n",
    "        self.lr = learning_rate\n",
    "        self.epochs = n_iters\n",
    "        self.w = None #weights\n",
    "        self.b = None #bias\n",
    "    \n",
    "    def fit(self, X, y): # takes training samples and labels\n",
    "        # samples and features\n",
    "        m, n_features = X.shape\n",
    "        #initializing parameters\n",
    "        self.w = np.zeros(n_features)\n",
    "        self.b = 0\n",
    "        \n",
    "        #implementing gradient descent\n",
    "        for i in range(self.epochs):\n",
    "            y_pred = np.dot(self.w, X) + self.b\n",
    "            #calculating gradients i.e. derivatives with respect to parameters\n",
    "            \n",
    "            d_w = (1/(self.m)) * np.dot(X.T, (y_pred - y)) # X.T means Xi transpose\n",
    "            d_b = (1/self.m) * np.sum(y_pred - y)\n",
    "            \n",
    "            # update weight and bias i.e. w = w - α * dw & b = b - α * db\n",
    "            self.w -= self.lr * dw\n",
    "            self.b -= self.lr * dw\n",
    "            \n",
    "    def predict(self, X): # takes test samples\n",
    "        #implementing y = w*x + b\n",
    "        y_pred = np.dot(X, self.w) + self.b\n",
    "        return y_pred"
   ]
  }
 ],
 "metadata": {
  "kernelspec": {
   "display_name": "Python 3",
   "language": "python",
   "name": "python3"
  },
  "language_info": {
   "codemirror_mode": {
    "name": "ipython",
    "version": 3
   },
   "file_extension": ".py",
   "mimetype": "text/x-python",
   "name": "python",
   "nbconvert_exporter": "python",
   "pygments_lexer": "ipython3",
   "version": "3.8.8"
  }
 },
 "nbformat": 4,
 "nbformat_minor": 5
}
