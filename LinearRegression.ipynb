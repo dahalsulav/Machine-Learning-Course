{
 "cells": [
  {
   "cell_type": "code",
   "execution_count": 4,
   "id": "9908ac4d",
   "metadata": {},
   "outputs": [],
   "source": [
    "import numpy as np\n",
    "class LinearRegression:\n",
    "    def __init__(self, learning_rate=0.001, n_iters=1000):\n",
    "        self.lr = learning_rate\n",
    "        self.epochs = n_iters\n",
    "        self.w = None #weights\n",
    "        self.b = None #bias\n",
    "    \n",
    "    def fit(self, X, y): # takes training samples and labels\n",
    "        # samples and features\n",
    "        m, n_features = X.shape\n",
    "        #initializing parameters\n",
    "        self.w = np.zeros(n_features)\n",
    "        self.b = 0\n",
    "        \n",
    "        #implementing gradient descent\n",
    "        for i in range(self.epochs):\n",
    "            y_pred = np.dot(self.w, X) + self.b\n",
    "            #calculating gradients i.e. derivatives with respect to parameters\n",
    "            \n",
    "            d_w = (1/(self.m)) * np.dot(X.T, (y_pred - y)) # X.T means Xi transpose\n",
    "            d_b = (1/self.m) * np.sum(y_pred - y)\n",
    "            \n",
    "            # update weight and bias i.e. w = w - α * dw & b = b - α * db\n",
    "            self.w -= self.lr * dw\n",
    "            self.b -= self.lr * dw\n",
    "            \n",
    "    def predict(self, X): # takes test samples\n",
    "        #implementing y = w*x + b\n",
    "        y_pred = np.dot(X, self.w) + self.b\n",
    "        return y_pred\n",
    "    \n",
    "#implementing cost function using mean square error\n",
    "def mean_square_error(y_pred, y):\n",
    "    np.mean((y - y_pred) ** 2)"
   ]
  },
  {
   "cell_type": "code",
   "execution_count": 5,
   "id": "ed9a571c",
   "metadata": {},
   "outputs": [
    {
     "ename": "NameError",
     "evalue": "name 'X_train' is not defined",
     "output_type": "error",
     "traceback": [
      "\u001b[1;31m---------------------------------------------------------------------------\u001b[0m",
      "\u001b[1;31mNameError\u001b[0m                                 Traceback (most recent call last)",
      "\u001b[1;32m<ipython-input-5-4c61e0bbb7af>\u001b[0m in \u001b[0;36m<module>\u001b[1;34m\u001b[0m\n\u001b[0;32m      1\u001b[0m \u001b[0mlinear_reg\u001b[0m \u001b[1;33m=\u001b[0m \u001b[0mLinearRegression\u001b[0m\u001b[1;33m(\u001b[0m\u001b[1;33m)\u001b[0m\u001b[1;33m\u001b[0m\u001b[1;33m\u001b[0m\u001b[0m\n\u001b[1;32m----> 2\u001b[1;33m \u001b[0mlinear_reg\u001b[0m\u001b[1;33m.\u001b[0m\u001b[0mfit\u001b[0m\u001b[1;33m(\u001b[0m\u001b[0mX_train\u001b[0m\u001b[1;33m,\u001b[0m \u001b[0my_train\u001b[0m\u001b[1;33m)\u001b[0m\u001b[1;33m\u001b[0m\u001b[1;33m\u001b[0m\u001b[0m\n\u001b[0m\u001b[0;32m      3\u001b[0m \u001b[0my_pred\u001b[0m \u001b[1;33m=\u001b[0m \u001b[0mlinear_reg\u001b[0m\u001b[1;33m.\u001b[0m\u001b[0mpredict\u001b[0m\u001b[1;33m(\u001b[0m\u001b[0mX_test\u001b[0m\u001b[1;33m)\u001b[0m\u001b[1;33m\u001b[0m\u001b[1;33m\u001b[0m\u001b[0m\n\u001b[0;32m      4\u001b[0m \u001b[1;31m# calculating error\u001b[0m\u001b[1;33m\u001b[0m\u001b[1;33m\u001b[0m\u001b[1;33m\u001b[0m\u001b[0m\n\u001b[0;32m      5\u001b[0m \u001b[0mmeansqrerr\u001b[0m \u001b[1;33m=\u001b[0m \u001b[0mmean_square_error\u001b[0m\u001b[1;33m(\u001b[0m\u001b[0my_pred\u001b[0m\u001b[1;33m,\u001b[0m \u001b[0my_test\u001b[0m\u001b[1;33m)\u001b[0m\u001b[1;33m\u001b[0m\u001b[1;33m\u001b[0m\u001b[0m\n",
      "\u001b[1;31mNameError\u001b[0m: name 'X_train' is not defined"
     ]
    }
   ],
   "source": [
    "linear_reg = LinearRegression()\n",
    "linear_reg.fit(X_train, y_train)\n",
    "y_pred = linear_reg.predict(X_test)\n",
    "# calculating error\n",
    "meansqrerr = mean_square_error(y_pred, y_test)\n",
    "print(meansqrerr)"
   ]
  },
  {
   "cell_type": "code",
   "execution_count": null,
   "id": "fad2cd94",
   "metadata": {},
   "outputs": [],
   "source": []
  }
 ],
 "metadata": {
  "kernelspec": {
   "display_name": "Python 3",
   "language": "python",
   "name": "python3"
  },
  "language_info": {
   "codemirror_mode": {
    "name": "ipython",
    "version": 3
   },
   "file_extension": ".py",
   "mimetype": "text/x-python",
   "name": "python",
   "nbconvert_exporter": "python",
   "pygments_lexer": "ipython3",
   "version": "3.8.8"
  }
 },
 "nbformat": 4,
 "nbformat_minor": 5
}
